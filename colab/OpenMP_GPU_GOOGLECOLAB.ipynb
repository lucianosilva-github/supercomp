{
  "nbformat": 4,
  "nbformat_minor": 0,
  "metadata": {
    "colab": {
      "name": "OpenMP-GPU-GOOGLECOLAB.ipynb",
      "provenance": []
    },
    "kernelspec": {
      "name": "python3",
      "display_name": "Python 3"
    },
    "language_info": {
      "name": "python"
    },
    "accelerator": "GPU"
  },
  "cells": [
    {
      "cell_type": "markdown",
      "source": [
        "## **OpenMP e GPU no Google Colab**"
      ],
      "metadata": {
        "id": "VZXTR9OjscXb"
      }
    },
    {
      "cell_type": "markdown",
      "source": [
        "Para utilizar OpenMP no Google Colab, inicialmente escreva seu código numa célula de código e, na primeira linha, utilize o comando %%writefile com o nome do arquivo a ser gravado no seu diretório de trabalho."
      ],
      "metadata": {
        "id": "slZ3MeRDspIN"
      }
    },
    {
      "cell_type": "code",
      "execution_count": 1,
      "metadata": {
        "colab": {
          "base_uri": "https://localhost:8080/"
        },
        "id": "firSvf1rsbYG",
        "outputId": "16b83c88-e28d-4bf1-8ab8-5fb823e63160"
      },
      "outputs": [
        {
          "output_type": "stream",
          "name": "stdout",
          "text": [
            "Overwriting main.cpp\n"
          ]
        }
      ],
      "source": [
        "%%writefile main.cpp\n",
        "\n",
        "#include <iostream>\n",
        "int main()\n",
        "{\n",
        "    #pragma omp parallel\n",
        "    {\n",
        "        std::cout << \"Hello World\\n\";\n",
        "    }\n",
        "    return 0;\n",
        "}"
      ]
    },
    {
      "cell_type": "markdown",
      "source": [
        "Em seguida, você deve compilar o seu código:"
      ],
      "metadata": {
        "id": "MFt5qK3GuP1w"
      }
    },
    {
      "cell_type": "code",
      "source": [
        "!g++ -fopenmp -o main main.cpp"
      ],
      "metadata": {
        "id": "wJ0eKbVkuUOd"
      },
      "execution_count": 2,
      "outputs": []
    },
    {
      "cell_type": "markdown",
      "source": [
        "Para executar o seu código, basta utilizar o nome do executável:"
      ],
      "metadata": {
        "id": "j2oBS1BPuZxK"
      }
    },
    {
      "cell_type": "code",
      "source": [
        "!./main"
      ],
      "metadata": {
        "colab": {
          "base_uri": "https://localhost:8080/"
        },
        "id": "sJENG7gwufkE",
        "outputId": "19afb747-22b5-4e00-c724-65a01431672e"
      },
      "execution_count": 3,
      "outputs": [
        {
          "output_type": "stream",
          "name": "stdout",
          "text": [
            "Hello World\n",
            "Hello World\n"
          ]
        }
      ]
    },
    {
      "cell_type": "markdown",
      "source": [
        "**EXERCÍCIO.** Considere o código abaixo e sua medida de tempo:"
      ],
      "metadata": {
        "id": "wj1XkuXSu49c"
      }
    },
    {
      "cell_type": "code",
      "source": [
        "%%writefile main.cpp\n",
        "\n",
        "#include <iostream>\n",
        "#define ARRAY_SIZE 100000000\n",
        "#define ARRAY_VALUE 1231\n",
        "int main()\n",
        "{\n",
        "    int *arr = new int[ARRAY_SIZE];\n",
        "    std::fill_n(arr, ARRAY_SIZE, ARRAY_VALUE);\n",
        "    for(int i = 0; i < ARRAY_SIZE; i++)\n",
        "    {\n",
        "        // do some relatively long operation\n",
        "        arr[i] = 3*arr[i]  + arr[i] / 5 - 14;\n",
        "    }\n",
        "    return 0;\n",
        "}"
      ],
      "metadata": {
        "colab": {
          "base_uri": "https://localhost:8080/"
        },
        "id": "zloOTM9WvDNX",
        "outputId": "2289cd80-7cff-4a36-ef11-ede42111d421"
      },
      "execution_count": 4,
      "outputs": [
        {
          "output_type": "stream",
          "name": "stdout",
          "text": [
            "Overwriting main.cpp\n"
          ]
        }
      ]
    },
    {
      "cell_type": "code",
      "source": [
        "!g++ -o main main.cpp"
      ],
      "metadata": {
        "id": "Wb0l6NolvZsW"
      },
      "execution_count": 5,
      "outputs": []
    },
    {
      "cell_type": "code",
      "source": [
        "!time ./main"
      ],
      "metadata": {
        "colab": {
          "base_uri": "https://localhost:8080/"
        },
        "id": "VttkYWCzvSlU",
        "outputId": "517c0982-aba7-4958-826c-5d0e02225eb0"
      },
      "execution_count": 6,
      "outputs": [
        {
          "output_type": "stream",
          "name": "stdout",
          "text": [
            "\n",
            "real\t0m0.868s\n",
            "user\t0m0.663s\n",
            "sys\t0m0.193s\n"
          ]
        }
      ]
    },
    {
      "cell_type": "markdown",
      "source": [
        "Utilizando OpenMP, paralelize este código e refaça a medida de tempo:"
      ],
      "metadata": {
        "id": "Bm547dCbvqI6"
      }
    },
    {
      "cell_type": "code",
      "source": [
        "Digite seu código aqui"
      ],
      "metadata": {
        "id": "l-O66yjev1cg"
      },
      "execution_count": null,
      "outputs": []
    },
    {
      "cell_type": "code",
      "source": [
        "Compile seu código aqui"
      ],
      "metadata": {
        "id": "Uy78BmzUv6ZY"
      },
      "execution_count": null,
      "outputs": []
    },
    {
      "cell_type": "code",
      "source": [
        "Faça a medida de seu código aqui"
      ],
      "metadata": {
        "id": "D1U_JWoyv8zM"
      },
      "execution_count": null,
      "outputs": []
    },
    {
      "cell_type": "markdown",
      "source": [
        "Para utilizar GPU no Google Colab,  você também deve escrever seu código numa célula de código e, na primeira linha, utilize o comando %%writefile com o nome do arquivo a ser gravado no seu diretório de trabalho."
      ],
      "metadata": {
        "id": "G_OH_cOoxI4s"
      }
    },
    {
      "cell_type": "code",
      "source": [
        "%%writefile main.cu\n",
        "\n",
        "#include <thrust/device_vector.h>\n",
        "#include <iostream>\n",
        "\n",
        "int main(void)\n",
        "{\n",
        "    // inicializa todos os 10 elementos de v na GPU com o valor 1\n",
        "    thrust::device_vector<int> v(10, 1);\n",
        " \n",
        "    // mostra todos os elementos alocados\n",
        "    for(int i = 0; i < v.size(); i++)\n",
        "        std::cout << v[i] << \"\\n\";\n",
        "\n",
        "    return 0;\n",
        "}"
      ],
      "metadata": {
        "colab": {
          "base_uri": "https://localhost:8080/"
        },
        "id": "_0Hr8k9xxaFW",
        "outputId": "b62a4c25-6513-425f-8feb-6767b30a8fac"
      },
      "execution_count": 3,
      "outputs": [
        {
          "output_type": "stream",
          "name": "stdout",
          "text": [
            "Writing main.cu\n"
          ]
        }
      ]
    },
    {
      "cell_type": "markdown",
      "source": [
        "Em seguida, compilamos o arquivo com o nvcc indicando o tipo específico de gpu do Google Colab (sm_37):"
      ],
      "metadata": {
        "id": "va3MdT9lxx_D"
      }
    },
    {
      "cell_type": "code",
      "source": [
        "!nvcc -Wno-deprecated-gpu-targets -arch=sm_37 -std=c++14 -o main main.cu"
      ],
      "metadata": {
        "id": "Q-KIDUboyCtr"
      },
      "execution_count": 4,
      "outputs": []
    },
    {
      "cell_type": "markdown",
      "source": [
        "Para executar o programa, primeiro você deve ativar o dispositivo GPU no menu Editar--> Configurações de Notebook --> Acelerador de Hardware (GPU). **ATENÇÃO: DEIXE A GPU ATIVADA SOMENTE ENQUANTO FOR EXECUTAR O PROGRAMA. HÁ UM TEMPO LIMITADO DE USO DAS GPUs NO GOOGLE COLAB.**"
      ],
      "metadata": {
        "id": "Rn2LhKk4y5yE"
      }
    },
    {
      "cell_type": "code",
      "source": [
        "!./main"
      ],
      "metadata": {
        "colab": {
          "base_uri": "https://localhost:8080/"
        },
        "id": "U3Iso1d7zoQF",
        "outputId": "f63f1b42-f0d7-4363-8cc1-6542a0d08c4c"
      },
      "execution_count": 5,
      "outputs": [
        {
          "output_type": "stream",
          "name": "stdout",
          "text": [
            "1\n",
            "1\n",
            "1\n",
            "1\n",
            "1\n",
            "1\n",
            "1\n",
            "1\n",
            "1\n",
            "1\n"
          ]
        }
      ]
    },
    {
      "cell_type": "markdown",
      "source": [
        "**EXERCÍCIO.** Considere o código C++ abaixo que calcula a norma de um vetor de 4 componentes e suas medidas de tempo:"
      ],
      "metadata": {
        "id": "3AI7ORoT38_E"
      }
    },
    {
      "cell_type": "code",
      "source": [
        "%%writefile main.cpp\n",
        "#include <iostream>\n",
        "#include <cmath>\n",
        "\n",
        "int main(void)\n",
        "{\n",
        "    // inicializa o vetor \n",
        "    float x[4] = {1.0, 2.0, 3.0, 4.0};\n",
        "    float sum=0.0;\n",
        "    for (int i=0;i<4;i++)\n",
        "        sum+=x[i]*x[i];\n",
        "    std::cout << std::sqrt(sum);\n",
        "    return 0;\n",
        "}"
      ],
      "metadata": {
        "colab": {
          "base_uri": "https://localhost:8080/"
        },
        "id": "3xfD1UqN4gOD",
        "outputId": "fc02b8b1-8ed1-4005-c00f-1e8275d27957"
      },
      "execution_count": 6,
      "outputs": [
        {
          "output_type": "stream",
          "name": "stdout",
          "text": [
            "Writing main.cpp\n"
          ]
        }
      ]
    },
    {
      "cell_type": "code",
      "source": [
        "!g++ -o main main.cpp"
      ],
      "metadata": {
        "id": "NbmLwW-u5WUX"
      },
      "execution_count": 7,
      "outputs": []
    },
    {
      "cell_type": "code",
      "source": [
        "!time ./main"
      ],
      "metadata": {
        "colab": {
          "base_uri": "https://localhost:8080/"
        },
        "id": "RGQb66yo5aU3",
        "outputId": "94f31f72-b8d9-4988-fb51-26a917dd93c3"
      },
      "execution_count": 8,
      "outputs": [
        {
          "output_type": "stream",
          "name": "stdout",
          "text": [
            "5.47723\n",
            "real\t0m0.003s\n",
            "user\t0m0.001s\n",
            "sys\t0m0.002s\n"
          ]
        }
      ]
    },
    {
      "cell_type": "markdown",
      "source": [
        "Paralelize o código acima em GPU com THRUST e faça uma estimativa de tempo de sua execução:"
      ],
      "metadata": {
        "id": "nJb0rQoO54qF"
      }
    },
    {
      "cell_type": "code",
      "source": [
        "Digite seu código aqui"
      ],
      "metadata": {
        "id": "07w9ujTa6HaX"
      },
      "execution_count": null,
      "outputs": []
    },
    {
      "cell_type": "code",
      "source": [
        "Compile seu código aqui"
      ],
      "metadata": {
        "id": "d5AD6p246J0x"
      },
      "execution_count": null,
      "outputs": []
    },
    {
      "cell_type": "code",
      "source": [
        "Faça sua medida de tempo aqui"
      ],
      "metadata": {
        "id": "NNEFpaO26LnS"
      },
      "execution_count": null,
      "outputs": []
    }
  ]
}